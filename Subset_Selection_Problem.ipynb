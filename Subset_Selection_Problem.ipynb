{
  "nbformat": 4,
  "nbformat_minor": 0,
  "metadata": {
    "colab": {
      "provenance": [],
      "include_colab_link": true
    },
    "kernelspec": {
      "name": "python3",
      "display_name": "Python 3"
    },
    "language_info": {
      "name": "python"
    }
  },
  "cells": [
    {
      "cell_type": "markdown",
      "metadata": {
        "id": "view-in-github",
        "colab_type": "text"
      },
      "source": [
        "<a href=\"https://colab.research.google.com/github/ayushmahajan-31/mini-project-subset-selection-problem/blob/main/Subset_Selection_Problem.ipynb\" target=\"_parent\"><img src=\"https://colab.research.google.com/assets/colab-badge.svg\" alt=\"Open In Colab\"/></a>"
      ]
    },
    {
      "cell_type": "markdown",
      "source": [
        "LIBRARY REQUIRED"
      ],
      "metadata": {
        "id": "tUTVty9HiEbv"
      }
    },
    {
      "cell_type": "code",
      "source": [
        "import random as r"
      ],
      "metadata": {
        "id": "jDV1BWIMiLa0"
      },
      "execution_count": 1,
      "outputs": []
    },
    {
      "cell_type": "markdown",
      "source": [
        "ASSIGNING VALUE TO THE MAIN SET"
      ],
      "metadata": {
        "id": "XpisSOcqiPrk"
      }
    },
    {
      "cell_type": "code",
      "source": [
        "Set=set([-12, -3, -6, 7, 2, -2, 6, 3, 9, -7, -5, -8, 1, 11, -9, -4])\n",
        "print(\"The Main Set Is---\",Set)\n",
        "print(\"The Main Set Contains \",len(Set),\" Elements\")"
      ],
      "metadata": {
        "id": "uX6xPAwuimGM"
      },
      "execution_count": null,
      "outputs": []
    },
    {
      "cell_type": "markdown",
      "source": [
        "CALCULATING THE TOTAL 5 MEMBERED SETS THAT CAN BE FORMED"
      ],
      "metadata": {
        "id": "DCepk2LWiry1"
      }
    },
    {
      "cell_type": "code",
      "source": [
        "# For Calculating The Number Of Subsets That Can Be Formed Form a Set Contaning 16 Elements,\n",
        "# I'll be Using The Concept Of Combinations i.e. Choosing K Elements from N Elements\n",
        "# Therefore The Formula Can Be Written As C(N,K)--->C(16,5)=4368\n",
        "# Hence Our Iteration Will Be Runned 4368 Times"
      ],
      "metadata": {
        "id": "psT1zgGfjNb7"
      },
      "execution_count": 3,
      "outputs": []
    },
    {
      "cell_type": "markdown",
      "source": [
        "CALCULATION OF SUBSETS"
      ],
      "metadata": {
        "id": "lVilbptPkXwt"
      }
    },
    {
      "cell_type": "code",
      "source": [
        "# Declaring count=0 For Counting The Total Number Of Subsets With Sum Of Elements As 0\n",
        "\n",
        "count=0\n",
        "\n",
        "# Using The Iteration As Calcutated Above\n",
        "\n",
        "for i in range(0,4368):\n",
        "\n",
        "  # Selection Of Random 5 Membered Subsets\n",
        "  subset=set(r.sample(Set,5))\n",
        "\n",
        "  # Checking Of Sum Condition\n",
        "  if(sum(subset)==0):\n",
        "    print(\"The subset is---\",subset)\n",
        "    count=count+1\n",
        "  else:\n",
        "    continue\n",
        "# Printing Total Number Of Subsets As Raised By Count\n",
        "print(\"The total subsets are----\",count)"
      ],
      "metadata": {
        "id": "k_dbiuTLkZ8h"
      },
      "execution_count": null,
      "outputs": []
    },
    {
      "cell_type": "markdown",
      "source": [
        "COMPLETE CODE"
      ],
      "metadata": {
        "id": "RCWdebwmlnp-"
      }
    },
    {
      "cell_type": "code",
      "execution_count": null,
      "metadata": {
        "id": "dD3PxrcVdm-L"
      },
      "outputs": [],
      "source": [
        "import random as r\n",
        "\n",
        "\n",
        "Set=set([-12, -3, -6, 7, 2, -2, 6, 3, 9, -7, -5, -8, 1, 11, -9, -4])\n",
        "print(\"The main set is---\",Set)\n",
        "\n",
        "count=0\n",
        "\n",
        "for i in range(0,4368):\n",
        "\n",
        "  subset=set(r.sample(Set,5))\n",
        "  \n",
        "  if(sum(subset)==0):\n",
        "\n",
        "    print(\"The subset is---\",subset)\n",
        "    count=count+1\n",
        "  \n",
        "  else:\n",
        "    continue\n",
        "\n",
        "print(\"The total subsets are----\",count)"
      ]
    }
  ]
}